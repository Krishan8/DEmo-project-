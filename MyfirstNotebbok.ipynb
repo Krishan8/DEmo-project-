{
  "nbformat": 4,
  "nbformat_minor": 5,
  "metadata": {
    "kernelspec": {
      "display_name": "Python 3",
      "language": "python",
      "name": "python3"
    },
    "language_info": {
      "codemirror_mode": {
        "name": "ipython",
        "version": 3
      },
      "file_extension": ".py",
      "mimetype": "text/x-python",
      "name": "python",
      "nbconvert_exporter": "python",
      "pygments_lexer": "ipython3",
      "version": "3.8.8"
    },
    "colab": {
      "name": "MyfirstNotebbok.ipynb",
      "provenance": [],
      "include_colab_link": true
    }
  },
  "cells": [
    {
      "cell_type": "markdown",
      "metadata": {
        "id": "view-in-github",
        "colab_type": "text"
      },
      "source": [
        "<a href=\"https://colab.research.google.com/github/Krishan8/DEmo-project-/blob/main/MyfirstNotebbok.ipynb\" target=\"_parent\"><img src=\"https://colab.research.google.com/assets/colab-badge.svg\" alt=\"Open In Colab\"/></a>"
      ]
    },
    {
      "cell_type": "code",
      "metadata": {
        "id": "481bc234"
      },
      "source": [
        ""
      ],
      "id": "481bc234",
      "execution_count": null,
      "outputs": []
    },
    {
      "cell_type": "markdown",
      "metadata": {
        "id": "d15fc6bf"
      },
      "source": [
        "# This is the first class of python coding"
      ],
      "id": "d15fc6bf"
    },
    {
      "cell_type": "markdown",
      "metadata": {
        "id": "328b18aa"
      },
      "source": [
        "# print(\"Hello world ! It is my first python program \")"
      ],
      "id": "328b18aa"
    },
    {
      "cell_type": "code",
      "metadata": {
        "id": "9cfea3a2"
      },
      "source": [
        "k=\"Ram\""
      ],
      "id": "9cfea3a2",
      "execution_count": null,
      "outputs": []
    },
    {
      "cell_type": "code",
      "metadata": {
        "id": "499139d1"
      },
      "source": [
        ""
      ],
      "id": "499139d1",
      "execution_count": null,
      "outputs": []
    },
    {
      "cell_type": "code",
      "metadata": {
        "id": "e800db78"
      },
      "source": [
        ""
      ],
      "id": "e800db78",
      "execution_count": null,
      "outputs": []
    },
    {
      "cell_type": "code",
      "metadata": {
        "id": "b87d793a"
      },
      "source": [
        "\n"
      ],
      "id": "b87d793a",
      "execution_count": null,
      "outputs": []
    },
    {
      "cell_type": "code",
      "metadata": {
        "id": "c210d522"
      },
      "source": [
        ""
      ],
      "id": "c210d522",
      "execution_count": null,
      "outputs": []
    },
    {
      "cell_type": "code",
      "metadata": {
        "id": "1d868be7"
      },
      "source": [
        ""
      ],
      "id": "1d868be7",
      "execution_count": null,
      "outputs": []
    },
    {
      "cell_type": "code",
      "metadata": {
        "id": "2261d0ef"
      },
      "source": [
        ""
      ],
      "id": "2261d0ef",
      "execution_count": null,
      "outputs": []
    },
    {
      "cell_type": "code",
      "metadata": {
        "id": "8793742f"
      },
      "source": [
        ""
      ],
      "id": "8793742f",
      "execution_count": null,
      "outputs": []
    },
    {
      "cell_type": "code",
      "metadata": {
        "id": "3c0cbbe0"
      },
      "source": [
        ""
      ],
      "id": "3c0cbbe0",
      "execution_count": null,
      "outputs": []
    },
    {
      "cell_type": "code",
      "metadata": {
        "id": "01d1bf94"
      },
      "source": [
        ""
      ],
      "id": "01d1bf94",
      "execution_count": null,
      "outputs": []
    },
    {
      "cell_type": "code",
      "metadata": {
        "id": "202bb216"
      },
      "source": [
        ""
      ],
      "id": "202bb216",
      "execution_count": null,
      "outputs": []
    },
    {
      "cell_type": "code",
      "metadata": {
        "id": "3d70172a"
      },
      "source": [
        ""
      ],
      "id": "3d70172a",
      "execution_count": null,
      "outputs": []
    },
    {
      "cell_type": "code",
      "metadata": {
        "id": "49990dfb"
      },
      "source": [
        ""
      ],
      "id": "49990dfb",
      "execution_count": null,
      "outputs": []
    },
    {
      "cell_type": "code",
      "metadata": {
        "id": "9ea4b58b"
      },
      "source": [
        ""
      ],
      "id": "9ea4b58b",
      "execution_count": null,
      "outputs": []
    },
    {
      "cell_type": "code",
      "metadata": {
        "id": "87b85da7"
      },
      "source": [
        ""
      ],
      "id": "87b85da7",
      "execution_count": null,
      "outputs": []
    },
    {
      "cell_type": "code",
      "metadata": {
        "id": "84843c00"
      },
      "source": [
        ""
      ],
      "id": "84843c00",
      "execution_count": null,
      "outputs": []
    },
    {
      "cell_type": "code",
      "metadata": {
        "id": "e322bb78"
      },
      "source": [
        ""
      ],
      "id": "e322bb78",
      "execution_count": null,
      "outputs": []
    },
    {
      "cell_type": "code",
      "metadata": {
        "id": "de986cac"
      },
      "source": [
        ""
      ],
      "id": "de986cac",
      "execution_count": null,
      "outputs": []
    },
    {
      "cell_type": "code",
      "metadata": {
        "id": "ee0ed739"
      },
      "source": [
        "\n"
      ],
      "id": "ee0ed739",
      "execution_count": null,
      "outputs": []
    }
  ]
}